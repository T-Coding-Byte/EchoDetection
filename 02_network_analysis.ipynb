{
 "cells": [
  {
   "cell_type": "markdown",
   "id": "da632318",
   "metadata": {},
   "source": [
    "## Notebook 2: Network Analysis\n",
    "This notebook builds user-user interaction graphs from subreddit comments"
   ]
  },
  {
   "cell_type": "code",
   "execution_count": 113,
   "id": "22209a0c",
   "metadata": {},
   "outputs": [],
   "source": [
    "import pandas as pd\n",
    "import praw\n",
    "import numpy as np\n",
    "import networkx as nx\n",
    "from networkx.algorithms import bipartite\n",
    "import math\n",
    "import numpy as np\n",
    "import igraph as ig\n",
    "import leidenalg\n",
    "import pickle\n",
    "import matplotlib.pyplot as plt\n",
    "\n",
    "reddit = praw.Reddit(\"project\")\n",
    "commentFrame = pd.read_pickle(\"comments.pkl\")"
   ]
  },
  {
   "cell_type": "markdown",
   "id": "39b2d180",
   "metadata": {},
   "source": [
    "### Constructing the user-user graph"
   ]
  },
  {
   "cell_type": "code",
   "execution_count": 114,
   "id": "ab6113fc",
   "metadata": {},
   "outputs": [
    {
     "name": "stdout",
     "output_type": "stream",
     "text": [
      "3197\n"
     ]
    }
   ],
   "source": [
    "graph = nx.Graph()\n",
    "graph.add_nodes_from(commentFrame[\"original post\"].unique(), bipartite = 0)\n",
    "graph.add_nodes_from(commentFrame[\"author\"].unique(), bipartite = 1)#average weighted upvotes, average sentiment\n",
    "\n",
    "\n",
    "edges = zip(\n",
    "    commentFrame[\"author\"],\n",
    "    commentFrame[\"original post\"]\n",
    ")\n",
    "\n",
    "graph.add_edges_from((a, b) for a, b in edges)\n",
    "print(graph.number_of_nodes())\n",
    "\n",
    "uniqueUsers = [node for node, dic in graph.nodes(data = True) if dic[\"bipartite\"] == 1]\n",
    "userGraph = bipartite.weighted_projected_graph(graph, uniqueUsers)\n"
   ]
  },
  {
   "cell_type": "markdown",
   "id": "4a0d597f",
   "metadata": {},
   "source": [
    "### Adding graph attributes"
   ]
  },
  {
   "cell_type": "code",
   "execution_count": 115,
   "id": "cbb86656",
   "metadata": {},
   "outputs": [],
   "source": [
    "for u, v, data in userGraph.edges(data = True):\n",
    "    raw_weight = data.get(\"weight\", 1)\n",
    "\n",
    "    deg_u = userGraph.degree(u, weight = \"weight\")\n",
    "    deg_v = userGraph.degree(v, weight  = \"weight\")\n",
    "    normalized = raw_weight / math.sqrt(deg_u * deg_v) if deg_u > 0 and deg_v > 0 else 0\n",
    "user_sentiment = commentFrame.groupby(\"author\")['sentimentLabel'].mean().to_dict()\n",
    "nx.set_node_attributes(userGraph, user_sentiment, \"sentiment\")"
   ]
  },
  {
   "cell_type": "markdown",
   "id": "4aea3a23",
   "metadata": {},
   "source": [
    "### Saving graph for use in next notebook"
   ]
  },
  {
   "cell_type": "code",
   "execution_count": 116,
   "id": "d6a0f5eb",
   "metadata": {},
   "outputs": [],
   "source": [
    "components = nx.connected_components(userGraph)\n",
    "giant_component = max(components, key = len)\n",
    "G_Giant = userGraph.subgraph(giant_component)\n",
    "\n",
    "with open(\"Giant_comp.pkl\", \"wb\") as f:\n",
    "    pickle.dump(G_Giant, f)"
   ]
  }
 ],
 "metadata": {
  "kernelspec": {
   "display_name": "Python 3",
   "language": "python",
   "name": "python3"
  },
  "language_info": {
   "codemirror_mode": {
    "name": "ipython",
    "version": 3
   },
   "file_extension": ".py",
   "mimetype": "text/x-python",
   "name": "python",
   "nbconvert_exporter": "python",
   "pygments_lexer": "ipython3",
   "version": "3.11.13"
  }
 },
 "nbformat": 4,
 "nbformat_minor": 5
}
