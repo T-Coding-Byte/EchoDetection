{
 "cells": [
  {
   "cell_type": "code",
   "execution_count": 1,
   "id": "23cf0efd",
   "metadata": {},
   "outputs": [
    {
     "name": "stderr",
     "output_type": "stream",
     "text": [
      "/opt/homebrew/lib/python3.11/site-packages/tqdm/auto.py:21: TqdmWarning: IProgress not found. Please update jupyter and ipywidgets. See https://ipywidgets.readthedocs.io/en/stable/user_install.html\n",
      "  from .autonotebook import tqdm as notebook_tqdm\n"
     ]
    }
   ],
   "source": [
    "import praw\n",
    "import pandas as pd\n",
    "import numpy as np\n",
    "import emoji\n",
    "import unicodedata\n",
    "\n",
    "from transformers import AutoTokenizer, pipeline\n",
    "from sentence_transformers import SentenceTransformer, util\n",
    "import spacy\n",
    "import torch\n",
    "import matplotlib.pyplot as plt\n",
    "\n",
    "from tqdm import tqdm\n",
    "\n",
    "\n",
    "reddit = praw.Reddit(\"project\")\n",
    "header = {\"User-Agent\": \"my-bot/0.0.1 by u/Karmz0a\"}"
   ]
  },
  {
   "cell_type": "markdown",
   "id": "38a719c7",
   "metadata": {},
   "source": [
    "add demo mode that only uses 15 posts\n",
    "Input String + Search Subreddits\n",
    "filter out meme subs, make sure theyre relevant, check for satire\n",
    "search directly for comments, not posts -> comments"
   ]
  },
  {
   "cell_type": "code",
   "execution_count": 2,
   "id": "326ab0ff",
   "metadata": {},
   "outputs": [
    {
     "ename": "ValueError",
     "evalue": "An invalid value was specified for display_name. Check that the argument for the display_name parameter is not empty.",
     "output_type": "error",
     "traceback": [
      "\u001b[31m---------------------------------------------------------------------------\u001b[39m",
      "\u001b[31mValueError\u001b[39m                                Traceback (most recent call last)",
      "\u001b[36mCell\u001b[39m\u001b[36m \u001b[39m\u001b[32mIn[2]\u001b[39m\u001b[32m, line 4\u001b[39m\n\u001b[32m      1\u001b[39m topic = \u001b[38;5;28minput\u001b[39m()\n\u001b[32m      2\u001b[39m demo = \u001b[38;5;28;01mFalse\u001b[39;00m\n\u001b[32m----> \u001b[39m\u001b[32m4\u001b[39m subreddit = \u001b[43mreddit\u001b[49m\u001b[43m.\u001b[49m\u001b[43msubreddit\u001b[49m\u001b[43m(\u001b[49m\u001b[43mtopic\u001b[49m\u001b[43m)\u001b[49m\n\u001b[32m      5\u001b[39m count = \u001b[32m100\u001b[39m \u001b[38;5;28;01mif\u001b[39;00m subreddit.subscribers < \u001b[32m1000000\u001b[39m \u001b[38;5;28;01melse\u001b[39;00m \u001b[32m100\u001b[39m\n\u001b[32m      6\u001b[39m non_sticky = []\n",
      "\u001b[36mFile \u001b[39m\u001b[32m/opt/homebrew/lib/python3.11/site-packages/praw/models/helpers.py:335\u001b[39m, in \u001b[36mSubredditHelper.__call__\u001b[39m\u001b[34m(self, display_name)\u001b[39m\n\u001b[32m    332\u001b[39m \u001b[38;5;28;01mif\u001b[39;00m lower_name == \u001b[33m\"\u001b[39m\u001b[33mrandnsfw\u001b[39m\u001b[33m\"\u001b[39m:\n\u001b[32m    333\u001b[39m     \u001b[38;5;28;01mreturn\u001b[39;00m \u001b[38;5;28mself\u001b[39m._reddit.random_subreddit(nsfw=\u001b[38;5;28;01mTrue\u001b[39;00m)\n\u001b[32m--> \u001b[39m\u001b[32m335\u001b[39m \u001b[38;5;28;01mreturn\u001b[39;00m \u001b[43mSubreddit\u001b[49m\u001b[43m(\u001b[49m\u001b[38;5;28;43mself\u001b[39;49m\u001b[43m.\u001b[49m\u001b[43m_reddit\u001b[49m\u001b[43m,\u001b[49m\u001b[43m \u001b[49m\u001b[43mdisplay_name\u001b[49m\u001b[43m=\u001b[49m\u001b[43mdisplay_name\u001b[49m\u001b[43m)\u001b[49m\n",
      "\u001b[36mFile \u001b[39m\u001b[32m/opt/homebrew/lib/python3.11/site-packages/praw/models/reddit/subreddit.py:3015\u001b[39m, in \u001b[36mSubreddit.__init__\u001b[39m\u001b[34m(self, reddit, display_name, _data)\u001b[39m\n\u001b[32m   3013\u001b[39m \u001b[38;5;28;01mif\u001b[39;00m display_name:\n\u001b[32m   3014\u001b[39m     \u001b[38;5;28mself\u001b[39m.display_name = display_name\n\u001b[32m-> \u001b[39m\u001b[32m3015\u001b[39m \u001b[38;5;28;43msuper\u001b[39;49m\u001b[43m(\u001b[49m\u001b[43m)\u001b[49m\u001b[43m.\u001b[49m\u001b[34;43m__init__\u001b[39;49m\u001b[43m(\u001b[49m\u001b[43mreddit\u001b[49m\u001b[43m,\u001b[49m\u001b[43m \u001b[49m\u001b[43m_data\u001b[49m\u001b[43m=\u001b[49m\u001b[43m_data\u001b[49m\u001b[43m)\u001b[49m\n\u001b[32m   3016\u001b[39m \u001b[38;5;28mself\u001b[39m._path = API_PATH[\u001b[33m\"\u001b[39m\u001b[33msubreddit\u001b[39m\u001b[33m\"\u001b[39m].format(subreddit=\u001b[38;5;28mself\u001b[39m)\n",
      "\u001b[36mFile \u001b[39m\u001b[32m/opt/homebrew/lib/python3.11/site-packages/praw/models/listing/mixins/subreddit.py:74\u001b[39m, in \u001b[36mSubredditListingMixin.__init__\u001b[39m\u001b[34m(self, reddit, _data)\u001b[39m\n\u001b[32m     68\u001b[39m \u001b[38;5;28;01mdef\u001b[39;00m\u001b[38;5;250m \u001b[39m\u001b[34m__init__\u001b[39m(\u001b[38;5;28mself\u001b[39m, reddit: praw.Reddit, _data: \u001b[38;5;28mdict\u001b[39m[\u001b[38;5;28mstr\u001b[39m, Any] | \u001b[38;5;28;01mNone\u001b[39;00m):\n\u001b[32m     69\u001b[39m \u001b[38;5;250m    \u001b[39m\u001b[33;03m\"\"\"Initialize a :class:`.SubredditListingMixin` instance.\u001b[39;00m\n\u001b[32m     70\u001b[39m \n\u001b[32m     71\u001b[39m \u001b[33;03m    :param reddit: An instance of :class:`.Reddit`.\u001b[39;00m\n\u001b[32m     72\u001b[39m \n\u001b[32m     73\u001b[39m \u001b[33;03m    \"\"\"\u001b[39;00m\n\u001b[32m---> \u001b[39m\u001b[32m74\u001b[39m     \u001b[38;5;28;43msuper\u001b[39;49m\u001b[43m(\u001b[49m\u001b[43m)\u001b[49m\u001b[43m.\u001b[49m\u001b[34;43m__init__\u001b[39;49m\u001b[43m(\u001b[49m\u001b[43mreddit\u001b[49m\u001b[43m,\u001b[49m\u001b[43m \u001b[49m\u001b[43m_data\u001b[49m\u001b[43m=\u001b[49m\u001b[43m_data\u001b[49m\u001b[43m)\u001b[49m\n",
      "\u001b[36mFile \u001b[39m\u001b[32m/opt/homebrew/lib/python3.11/site-packages/praw/models/reddit/base.py:69\u001b[39m, in \u001b[36mRedditBase.__init__\u001b[39m\u001b[34m(self, reddit, _data, _extra_attribute_to_check, _fetched, _str_field)\u001b[39m\n\u001b[32m     67\u001b[39m     \u001b[38;5;28;01mreturn\u001b[39;00m\n\u001b[32m     68\u001b[39m msg = \u001b[33mf\u001b[39m\u001b[33m\"\u001b[39m\u001b[33mAn invalid value was specified for \u001b[39m\u001b[38;5;132;01m{\u001b[39;00m\u001b[38;5;28mself\u001b[39m.STR_FIELD\u001b[38;5;132;01m}\u001b[39;00m\u001b[33m. Check that the argument for the \u001b[39m\u001b[38;5;132;01m{\u001b[39;00m\u001b[38;5;28mself\u001b[39m.STR_FIELD\u001b[38;5;132;01m}\u001b[39;00m\u001b[33m parameter is not empty.\u001b[39m\u001b[33m\"\u001b[39m\n\u001b[32m---> \u001b[39m\u001b[32m69\u001b[39m \u001b[38;5;28;01mraise\u001b[39;00m \u001b[38;5;167;01mValueError\u001b[39;00m(msg)\n",
      "\u001b[31mValueError\u001b[39m: An invalid value was specified for display_name. Check that the argument for the display_name parameter is not empty."
     ]
    }
   ],
   "source": [
    "topic = input()\n",
    "demo = False\n",
    "\n",
    "subreddit = reddit.subreddit(topic)\n",
    "count = 100 if subreddit.subscribers < 1000000 else 100\n",
    "non_sticky = []\n",
    "i = 0\n",
    "for submission in subreddit.hot(limit = (count + 100)):\n",
    "    if submission.stickied or submission.num_comments == 0:\n",
    "        continue\n",
    "    else:\n",
    "        i = i + 1\n",
    "        non_sticky.append(submission)\n",
    "        if i == count:\n",
    "            break\n",
    "\n",
    "data = []\n",
    "for submission in non_sticky:\n",
    "    \n",
    "    submission.comments.replace_more(limit = None)\n",
    "    commentList = submission.comments.list()\n",
    "    for comment in commentList:\n",
    "        data.append({\n",
    "            \"author\": comment.author,\n",
    "            \"original post\" : submission.id,\n",
    "            \"upvotes\": comment.score,\n",
    "            \"body\": emoji.demojize(comment.body, delimiters=(\":\", \":\")).replace(\"\\n\", \" \").replace(\"\\r\", \" \"),\n",
    "        })"
   ]
  },
  {
   "cell_type": "markdown",
   "id": "d26b622c",
   "metadata": {},
   "source": [
    "Data Cleaning"
   ]
  },
  {
   "cell_type": "code",
   "execution_count": null,
   "id": "151c3be5",
   "metadata": {},
   "outputs": [
    {
     "name": "stderr",
     "output_type": "stream",
     "text": [
      "/opt/homebrew/lib/python3.11/site-packages/pandas/core/arraylike.py:399: RuntimeWarning: divide by zero encountered in log10\n",
      "  result = getattr(ufunc, method)(*inputs, **kwargs)\n",
      "/opt/homebrew/lib/python3.11/site-packages/pandas/core/arraylike.py:399: RuntimeWarning: invalid value encountered in log10\n",
      "  result = getattr(ufunc, method)(*inputs, **kwargs)\n"
     ]
    }
   ],
   "source": [
    "commentFrame = pd.DataFrame(data)\n",
    "\n",
    "commentFrame = commentFrame[(commentFrame[\"author\"] != \"AutoModerator\") & \n",
    "                            (commentFrame[\"author\"].notna()) &\n",
    "                            (commentFrame[\"body\"] != \"[removed]\")\n",
    "                            ].drop_duplicates()\n",
    "\n",
    "commentFrame[\"body\"] = commentFrame[\"body\"].apply(lambda x: unicodedata.normalize(\"NFC\", x ))\n",
    "\n",
    "conditions = [\n",
    "    commentFrame[\"upvotes\"] == 0,\n",
    "    commentFrame[\"upvotes\"] > 0,\n",
    "    commentFrame[\"upvotes\"] < 0\n",
    "]\n",
    "choices = [\n",
    "    0,\n",
    "    np.log10(commentFrame[\"upvotes\"]),\n",
    "    -np.log10(-commentFrame[\"upvotes\"])\n",
    "]\n",
    "\n",
    "commentFrame[\"upvoteScale\"] = np.select(conditions, choices, default = np.nan)\n",
    "\n"
   ]
  },
  {
   "cell_type": "markdown",
   "id": "a45d4924",
   "metadata": {},
   "source": [
    "Sentiment Analysis\n",
    "give user a list of spaCy labels to choose what is relevant and what is not"
   ]
  },
  {
   "cell_type": "markdown",
   "id": "53cf4e0c",
   "metadata": {},
   "source": [
    "filter SPACY keywords -> work of art, product, org person etc"
   ]
  },
  {
   "cell_type": "code",
   "execution_count": null,
   "id": "011a63c0",
   "metadata": {},
   "outputs": [
    {
     "name": "stderr",
     "output_type": "stream",
     "text": [
      "/opt/homebrew/lib/python3.11/site-packages/spacy/pipeline/lemmatizer.py:188: UserWarning: [W108] The rule-based lemmatizer did not find POS annotation for one or more tokens. Check that your pipeline includes components that assign token.pos, typically 'tagger'+'attribute_ruler' or 'morphologizer'.\n",
      "  warnings.warn(Warnings.W108)\n",
      "/opt/homebrew/lib/python3.11/site-packages/spacy/pipeline/lemmatizer.py:188: UserWarning: [W108] The rule-based lemmatizer did not find POS annotation for one or more tokens. Check that your pipeline includes components that assign token.pos, typically 'tagger'+'attribute_ruler' or 'morphologizer'.\n",
      "  warnings.warn(Warnings.W108)\n",
      "/opt/homebrew/lib/python3.11/site-packages/spacy/pipeline/lemmatizer.py:188: UserWarning: [W108] The rule-based lemmatizer did not find POS annotation for one or more tokens. Check that your pipeline includes components that assign token.pos, typically 'tagger'+'attribute_ruler' or 'morphologizer'.\n",
      "  warnings.warn(Warnings.W108)\n",
      "/opt/homebrew/lib/python3.11/site-packages/spacy/pipeline/lemmatizer.py:188: UserWarning: [W108] The rule-based lemmatizer did not find POS annotation for one or more tokens. Check that your pipeline includes components that assign token.pos, typically 'tagger'+'attribute_ruler' or 'morphologizer'.\n",
      "  warnings.warn(Warnings.W108)\n",
      "/opt/homebrew/lib/python3.11/site-packages/spacy/pipeline/lemmatizer.py:188: UserWarning: [W108] The rule-based lemmatizer did not find POS annotation for one or more tokens. Check that your pipeline includes components that assign token.pos, typically 'tagger'+'attribute_ruler' or 'morphologizer'.\n",
      "  warnings.warn(Warnings.W108)\n",
      "/opt/homebrew/lib/python3.11/site-packages/spacy/pipeline/lemmatizer.py:188: UserWarning: [W108] The rule-based lemmatizer did not find POS annotation for one or more tokens. Check that your pipeline includes components that assign token.pos, typically 'tagger'+'attribute_ruler' or 'morphologizer'.\n",
      "  warnings.warn(Warnings.W108)\n",
      "/opt/homebrew/lib/python3.11/site-packages/spacy/pipeline/lemmatizer.py:188: UserWarning: [W108] The rule-based lemmatizer did not find POS annotation for one or more tokens. Check that your pipeline includes components that assign token.pos, typically 'tagger'+'attribute_ruler' or 'morphologizer'.\n",
      "  warnings.warn(Warnings.W108)\n",
      "/opt/homebrew/lib/python3.11/site-packages/spacy/pipeline/lemmatizer.py:188: UserWarning: [W108] The rule-based lemmatizer did not find POS annotation for one or more tokens. Check that your pipeline includes components that assign token.pos, typically 'tagger'+'attribute_ruler' or 'morphologizer'.\n",
      "  warnings.warn(Warnings.W108)\n",
      "/opt/homebrew/lib/python3.11/site-packages/spacy/pipeline/lemmatizer.py:188: UserWarning: [W108] The rule-based lemmatizer did not find POS annotation for one or more tokens. Check that your pipeline includes components that assign token.pos, typically 'tagger'+'attribute_ruler' or 'morphologizer'.\n",
      "  warnings.warn(Warnings.W108)\n",
      "/opt/homebrew/lib/python3.11/site-packages/spacy/pipeline/lemmatizer.py:188: UserWarning: [W108] The rule-based lemmatizer did not find POS annotation for one or more tokens. Check that your pipeline includes components that assign token.pos, typically 'tagger'+'attribute_ruler' or 'morphologizer'.\n",
      "  warnings.warn(Warnings.W108)\n"
     ]
    },
    {
     "name": "stdout",
     "output_type": "stream",
     "text": [
      "entity        label  \n",
      "Nintendo      ORG        694\n",
      "Switch        PERSON     248\n",
      "Switch 2      LAW        209\n",
      "DLC           ORG        146\n",
      "the Switch 2  PRODUCT    130\n",
      "Switch 1      LAW        122\n",
      "Switch 2      PERSON     111\n",
      "Metroid       ORG         88\n",
      "Pokemon       PERSON      73\n",
      "devs          PERSON      70\n",
      "Sony          ORG         68\n",
      "Japan         GPE         67\n",
      "Silksong      PERSON      66\n",
      "              ORG         61\n",
      "Xbox          ORG         57\n",
      "NSO           ORG         51\n",
      "Mario         PERSON      50\n",
      "Hades 2       LAW         49\n",
      "Name: count, dtype: int64\n"
     ]
    },
    {
     "name": "stderr",
     "output_type": "stream",
     "text": [
      "Batches: 100%|██████████| 138/138 [00:08<00:00, 16.96it/s]\n"
     ]
    }
   ],
   "source": [
    "if torch.cuda.is_available():\n",
    "    device = torch.device(\"cuda\")   # NVIDIA GPU\n",
    "elif torch.backends.mps.is_available():\n",
    "    device = torch.device(\"mps\")    # Apple Silicon GPU (Metal Performance Shaders)\n",
    "else:\n",
    "    device = torch.device(\"cpu\")    # fallback\n",
    "nlp = spacy.load(\"en_core_web_sm\", disable= [\"parser\", \"tagger\"])\n",
    "embedder = SentenceTransformer(\"all-MiniLM-L6-v2\", device = device)\n",
    "\n",
    "spacy_entities = [\"ORG\", \"PRODUCT\", \"PERSON\", \"WORK_OF_ART\", \"NORP\", \"GPE\", \"LOC\", \"LAW\", \"EVENT\", \"FAC\"] # make this multiple choice for the user\n",
    "entity = []\n",
    "for doc in nlp.pipe(commentFrame[\"body\"], batch_size= 100, n_process=-1):\n",
    "    for ent in doc.ents:\n",
    "        entity.append((ent.text, ent.label_))\n",
    "        \n",
    "\n",
    "\n",
    "df_entities = pd.DataFrame(entity, columns=[\"entity\", \"label\"])\n",
    "e = df_entities[df_entities[\"label\"].isin(spacy_entities)].value_counts().head(18)\n",
    "print(e)\n",
    "top_ent = [idx[0] for idx in e.index]\n",
    "\n",
    "\n",
    "comments = commentFrame[\"body\"].tolist()\n",
    "query_emb =  embedder.encode(top_ent, normalize_embeddings= True)\n",
    "\n",
    "comment_emb = embedder.encode(comments, normalize_embeddings= True, show_progress_bar= True, batch_size= 64)\n",
    "\n",
    "relevance = embedder.similarity(query_emb, comment_emb)\n",
    "best_score = torch.max(relevance, dim = 0).values.tolist()\n",
    "\n",
    "relevance = embedder.similarity(query_emb, comment_emb)\n",
    "best_score = torch.max(relevance, dim = 0).values.tolist()\n",
    "commentFrame[\"relevance\"] =  best_score\n",
    "\n",
    "cutoff = np.percentile(commentFrame[\"relevance\"], 10)\n",
    "commentFrame = commentFrame[commentFrame[\"relevance\"] > cutoff]"
   ]
  },
  {
   "cell_type": "code",
   "execution_count": null,
   "id": "ef8073a4",
   "metadata": {},
   "outputs": [
    {
     "name": "stderr",
     "output_type": "stream",
     "text": [
      "Device set to use mps\n",
      "sentiment analysis: 100%|██████████| 124/124 [01:31<00:00,  1.36it/s]"
     ]
    },
    {
     "name": "stdout",
     "output_type": "stream",
     "text": [
      "             author original post  upvotes  \\\n",
      "0        CelticSith       1nrjxv6      254   \n",
      "2      PecanScrandy       1nrjxv6       74   \n",
      "3         Quick_Hit       1nrjxv6       17   \n",
      "4         meikaishi       1nrjxv6       26   \n",
      "5  MarioFanatic64-2       1nrjxv6        4   \n",
      "\n",
      "                                                                                                                                                              body  \\\n",
      "0                                                                                                                        OCD this generation is going to be :fire:   \n",
      "2                                                                            Damn Switch 1 case with the Switch 2 hideous key card text truly worst of both worlds   \n",
      "3                                                                                  Man the gamecube styled spine is what i liked about switch 2, bamco being lazy.   \n",
      "4                                                                              The colorful spines were already chaotic but at least consistent, this is just evil   \n",
      "5  Between this and the Game Key Card, Bamco is going out of their way to ensure that all of the obsessive game collector nerds will not buy the Switch 2 version.   \n",
      "\n",
      "   upvoteScale  relevance  sentimentLabel  sentimentScore  \n",
      "0     2.404834   0.295332               0        0.738950  \n",
      "2     1.869232   0.576227              -1        0.983809  \n",
      "3     1.230449   0.478716              -1        0.929795  \n",
      "4     1.414973   0.275383              -1        0.980568  \n",
      "5     0.602060   0.506086              -1        0.970661  \n"
     ]
    },
    {
     "name": "stderr",
     "output_type": "stream",
     "text": [
      "\n"
     ]
    }
   ],
   "source": [
    "comments = commentFrame[\"body\"].tolist()\n",
    "if torch.cuda.is_available():\n",
    "    device = torch.device(\"cuda:0\")\n",
    "elif torch.backends.mps.is_available():\n",
    "    device = torch.device(\"mps\")\n",
    "else:\n",
    "    device = torch.device(\"cpu\")  \n",
    "classifier = pipeline(\"sentiment-analysis\", model = \"AG6019/reddit-comment-sentiment-final\", device = device)\n",
    "\n",
    "label_map = {\"LABEL_0\": -1, \"LABEL_1\": 1}\n",
    "\n",
    "batch_size = 64 if device.type != \"cpu\" else 8\n",
    "results = []\n",
    "\n",
    "for i in tqdm(range(0, len(comments), batch_size), desc = \"sentiment analysis\"):\n",
    "    batch = comments[i:i+batch_size]\n",
    "    sentiment = classifier(batch, truncation = True, max_length = 128)\n",
    "    results.extend(sentiment)\n",
    "\n",
    "commentFrame[\"sentimentLabel\"] = [0 if r[\"score\"] < 0.85 else label_map[r[\"label\"]] for r in results]\n",
    "commentFrame[\"sentimentScore\"] = [r[\"score\"] for r in results]\n",
    "\n",
    "print(commentFrame.head())"
   ]
  },
  {
   "cell_type": "markdown",
   "id": "d3d2458f",
   "metadata": {},
   "source": [
    "Account for Sarcasm and Upvotes"
   ]
  },
  {
   "cell_type": "code",
   "execution_count": null,
   "id": "68993c5e",
   "metadata": {},
   "outputs": [
    {
     "name": "stdout",
     "output_type": "stream",
     "text": [
      "             author original post  upvotes  \\\n",
      "0        CelticSith       1nrjxv6      254   \n",
      "2      PecanScrandy       1nrjxv6       74   \n",
      "3         Quick_Hit       1nrjxv6       17   \n",
      "4         meikaishi       1nrjxv6       26   \n",
      "5  MarioFanatic64-2       1nrjxv6        4   \n",
      "\n",
      "                                                                                                                                                              body  \\\n",
      "0                                                                                                                        OCD this generation is going to be :fire:   \n",
      "2                                                                            Damn Switch 1 case with the Switch 2 hideous key card text truly worst of both worlds   \n",
      "3                                                                                  Man the gamecube styled spine is what i liked about switch 2, bamco being lazy.   \n",
      "4                                                                              The colorful spines were already chaotic but at least consistent, this is just evil   \n",
      "5  Between this and the Game Key Card, Bamco is going out of their way to ensure that all of the obsessive game collector nerds will not buy the Switch 2 version.   \n",
      "\n",
      "   upvoteScale  relevance  sentimentLabel  sentimentScore  \\\n",
      "0     2.404834   0.295332               0        0.738950   \n",
      "2     1.869232   0.576227              -1        0.983809   \n",
      "3     1.230449   0.478716              -1        0.929795   \n",
      "4     1.414973   0.275383              -1        0.980568   \n",
      "5     0.602060   0.506086              -1        0.970661   \n",
      "\n",
      "   AuthorAverageUpvotes AverageUserSentiment  \n",
      "0              1.183654             POSITIVE  \n",
      "2              1.869232             NEGATIVE  \n",
      "3              0.681297              NEUTRAL  \n",
      "4              1.414973             NEGATIVE  \n",
      "5              0.602060             NEGATIVE  \n"
     ]
    }
   ],
   "source": [
    "commentFrame[\"author\"] = commentFrame[\"author\"].astype(str)\n",
    "commentFrame[\"AuthorAverageUpvotes\"] = commentFrame.groupby(\"author\")[\"upvoteScale\"].transform(\"mean\")\n",
    "def avg_to_label(avg):\n",
    "    if avg > 0.25:\n",
    "        return \"POSITIVE\"\n",
    "    elif avg < -0.25:\n",
    "        return \"NEGATIVE\"\n",
    "    else:\n",
    "        return \"NEUTRAL\"\n",
    "\n",
    "commentFrame[\"AverageUserSentiment\"] = commentFrame.groupby(\"author\")[\"sentimentLabel\"].transform(\"mean\")\n",
    "commentFrame[\"AverageUserSentiment\"] = commentFrame[\"AverageUserSentiment\"].apply(avg_to_label)\n",
    "print(commentFrame.head(5))\n",
    "#print(commentFrame[\"sentimentLabel\"].value_counts())\n",
    "\n",
    "#print(commentFrame[\"AverageUserSentiment\"].value_counts())"
   ]
  },
  {
   "cell_type": "code",
   "execution_count": null,
   "id": "b6463e04",
   "metadata": {},
   "outputs": [
    {
     "data": {
      "image/png": "[encoded data removed]",
      "text/plain": [
       "<Figure size 640x480 with 1 Axes>"
      ]
     },
     "metadata": {},
     "output_type": "display_data"
    },
    {
     "name": "stdout",
     "output_type": "stream",
     "text": [
      "sentimentLabel\n",
      " 1    4195\n",
      " 0    2504\n",
      "-1    1207\n",
      "Name: count, dtype: int64\n"
     ]
    }
   ],
   "source": [
    "commentFrame.to_pickle(\"comments.pkl\")\n",
    "plt.hist(commentFrame[\"upvoteScale\"], bins = 70)\n",
    "plt.show()\n",
    "print(commentFrame[\"sentimentLabel\"].value_counts())\n"
   ]
  },
  {
   "cell_type": "code",
   "execution_count": null,
   "id": "6038c2da",
   "metadata": {},
   "outputs": [
    {
     "name": "stdout",
     "output_type": "stream",
     "text": [
      "0.3779408044523147\n",
      "0.2365747460087083\n"
     ]
    }
   ],
   "source": [
    "pd.set_option(\"display.max_colwidth\", 200)\n",
    "print(commentFrame[\"sentimentLabel\"].mean())\n",
    "print(commentFrame[commentFrame[\"upvotes\"] < 0][\"sentimentLabel\"].mean())\n",
    "\n",
    "\n"
   ]
  },
  {
   "cell_type": "markdown",
   "id": "0ca544a3",
   "metadata": {},
   "source": [
    "sentiment assortivity\n",
    "overall sentiment of the subreddit- battle ground or agreement\n",
    "overall sentiment of each user, compare negativity rate to "
   ]
  },
  {
   "cell_type": "markdown",
   "id": "9de902e6",
   "metadata": {},
   "source": []
  }
 ],
 "metadata": {
  "kernelspec": {
   "display_name": "Python 3",
   "language": "python",
   "name": "python3"
  },
  "language_info": {
   "codemirror_mode": {
    "name": "ipython",
    "version": 3
   },
   "file_extension": ".py",
   "mimetype": "text/x-python",
   "name": "python",
   "nbconvert_exporter": "python",
   "pygments_lexer": "ipython3",
   "version": "3.11.13"
  }
 },
 "nbformat": 4,
 "nbformat_minor": 5
}
