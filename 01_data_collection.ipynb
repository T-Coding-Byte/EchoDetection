{
 "cells": [
  {
   "cell_type": "markdown",
   "id": "1401943c",
   "metadata": {},
   "source": [
    "# Echo Chamber Index (ECI) Analysis"
   ]
  },
  {
   "cell_type": "markdown",
   "id": "1f069556",
   "metadata": {},
   "source": [
    "## Project Overview  \n",
    "\n",
    "This project measures the presence of echo chambers in an online community.  \n",
    "We build a user–user graph from interactions, apply sentiment analysis, and compute an **Echo Chamber Index (ECI)** using network metrics (homogeneity, assortativity, modularity, sentiment skew).  \n",
    "Visualisations highlight community structure and sentiment patterns."
   ]
  },
  {
   "cell_type": "markdown",
   "id": "f9f0367f",
   "metadata": {},
   "source": [
    "## Notebook 1: Data Collection & Sentiment Analysis"
   ]
  },
  {
   "cell_type": "code",
   "execution_count": 87,
   "id": "23cf0efd",
   "metadata": {},
   "outputs": [],
   "source": [
    "import praw\n",
    "import pandas as pd\n",
    "import numpy as np\n",
    "import emoji\n",
    "import unicodedata\n",
    "\n",
    "from transformers import AutoTokenizer, pipeline\n",
    "from sentence_transformers import SentenceTransformer, util\n",
    "import spacy\n",
    "import torch\n",
    "import matplotlib.pyplot as plt\n",
    "\n",
    "from tqdm import tqdm\n",
    "\n",
    "\n",
    "reddit = praw.Reddit(\"project\")\n",
    "header = {\"User-Agent\": \"my-bot/0.0.1 by u/Karmz0a\"}"
   ]
  },
  {
   "cell_type": "markdown",
   "id": "0ed9a9b5",
   "metadata": {},
   "source": [
    "### Extracting Reddit Comment Data (Ignoring Stickied & Empty Posts)"
   ]
  },
  {
   "cell_type": "code",
   "execution_count": 88,
   "id": "326ab0ff",
   "metadata": {},
   "outputs": [],
   "source": [
    "topic = input()\n",
    "\n",
    "subreddit = reddit.subreddit(topic)\n",
    "count = 200 if subreddit.subscribers < 1000000 else 100\n",
    "\n",
    "non_sticky = []\n",
    "for submission in subreddit.hot(limit = (count + 50)):\n",
    "    if submission.stickied or submission.num_comments == 0: #Filters pinned posts (usually not about the subreddit topic)\n",
    "        continue\n",
    "    else:\n",
    "        non_sticky.append(submission)\n",
    "        if len(non_sticky) == count:\n",
    "            break\n",
    "\n",
    "data = []\n",
    "for submission in non_sticky:\n",
    "    \n",
    "    submission.comments.replace_more(limit = None)\n",
    "    commentList = submission.comments.list()\n",
    "    for comment in commentList:\n",
    "        data.append({\n",
    "            \"author\": str(comment.author) if comment.author else \"[deleted]\",\n",
    "            \"original post\" : submission.id,\n",
    "            \"upvotes\": comment.score,\n",
    "            \"body\": emoji.demojize(comment.body, delimiters=(\":\", \":\")).replace(\"\\n\", \" \").replace(\"\\r\", \" \"),\n",
    "        })"
   ]
  },
  {
   "cell_type": "markdown",
   "id": "d26b622c",
   "metadata": {},
   "source": [
    "### Data Cleaning & log scaling upvotes"
   ]
  },
  {
   "cell_type": "code",
   "execution_count": 89,
   "id": "151c3be5",
   "metadata": {},
   "outputs": [
    {
     "name": "stderr",
     "output_type": "stream",
     "text": [
      "/opt/homebrew/lib/python3.11/site-packages/pandas/core/arraylike.py:399: RuntimeWarning: divide by zero encountered in log10\n",
      "  result = getattr(ufunc, method)(*inputs, **kwargs)\n",
      "/opt/homebrew/lib/python3.11/site-packages/pandas/core/arraylike.py:399: RuntimeWarning: invalid value encountered in log10\n",
      "  result = getattr(ufunc, method)(*inputs, **kwargs)\n"
     ]
    }
   ],
   "source": [
    "commentFrame = pd.DataFrame(data)\n",
    "\n",
    "commentFrame = commentFrame[(commentFrame[\"author\"] != \"AutoModerator\") & \n",
    "                            (commentFrame[\"author\"].notna()) &\n",
    "                            (commentFrame['author'] != \"[deleted]\") &\n",
    "                            (commentFrame[\"body\"] != \"[removed]\")\n",
    "                            ].drop_duplicates()\n",
    "\n",
    "commentFrame[\"body\"] = commentFrame[\"body\"].apply(lambda x: unicodedata.normalize(\"NFC\", x ))\n",
    "\n",
    "conditions = [\n",
    "    commentFrame[\"upvotes\"] == 0,\n",
    "    commentFrame[\"upvotes\"] > 0,\n",
    "    commentFrame[\"upvotes\"] < 0\n",
    "]\n",
    "choices = [\n",
    "    0,\n",
    "    np.log10(commentFrame[\"upvotes\"]),\n",
    "    -np.log10(-commentFrame[\"upvotes\"])\n",
    "]\n",
    "\n",
    "commentFrame[\"upvoteScale\"] = np.select(conditions, choices, default = np.nan)\n",
    "\n"
   ]
  },
  {
   "cell_type": "markdown",
   "id": "53cf4e0c",
   "metadata": {},
   "source": [
    "### Using Spacy to find relevant topics discussed"
   ]
  },
  {
   "cell_type": "code",
   "execution_count": 90,
   "id": "011a63c0",
   "metadata": {},
   "outputs": [
    {
     "name": "stderr",
     "output_type": "stream",
     "text": [
      "/opt/homebrew/lib/python3.11/site-packages/spacy/pipeline/lemmatizer.py:188: UserWarning: [W108] The rule-based lemmatizer did not find POS annotation for one or more tokens. Check that your pipeline includes components that assign token.pos, typically 'tagger'+'attribute_ruler' or 'morphologizer'.\n",
      "  warnings.warn(Warnings.W108)\n",
      "/opt/homebrew/lib/python3.11/site-packages/spacy/pipeline/lemmatizer.py:188: UserWarning: [W108] The rule-based lemmatizer did not find POS annotation for one or more tokens. Check that your pipeline includes components that assign token.pos, typically 'tagger'+'attribute_ruler' or 'morphologizer'.\n",
      "  warnings.warn(Warnings.W108)\n",
      "/opt/homebrew/lib/python3.11/site-packages/spacy/pipeline/lemmatizer.py:188: UserWarning: [W108] The rule-based lemmatizer did not find POS annotation for one or more tokens. Check that your pipeline includes components that assign token.pos, typically 'tagger'+'attribute_ruler' or 'morphologizer'.\n",
      "  warnings.warn(Warnings.W108)\n",
      "/opt/homebrew/lib/python3.11/site-packages/spacy/pipeline/lemmatizer.py:188: UserWarning: [W108] The rule-based lemmatizer did not find POS annotation for one or more tokens. Check that your pipeline includes components that assign token.pos, typically 'tagger'+'attribute_ruler' or 'morphologizer'.\n",
      "  warnings.warn(Warnings.W108)\n",
      "/opt/homebrew/lib/python3.11/site-packages/spacy/pipeline/lemmatizer.py:188: UserWarning: [W108] The rule-based lemmatizer did not find POS annotation for one or more tokens. Check that your pipeline includes components that assign token.pos, typically 'tagger'+'attribute_ruler' or 'morphologizer'.\n",
      "  warnings.warn(Warnings.W108)\n",
      "/opt/homebrew/lib/python3.11/site-packages/spacy/pipeline/lemmatizer.py:188: UserWarning: [W108] The rule-based lemmatizer did not find POS annotation for one or more tokens. Check that your pipeline includes components that assign token.pos, typically 'tagger'+'attribute_ruler' or 'morphologizer'.\n",
      "  warnings.warn(Warnings.W108)\n",
      "/opt/homebrew/lib/python3.11/site-packages/spacy/pipeline/lemmatizer.py:188: UserWarning: [W108] The rule-based lemmatizer did not find POS annotation for one or more tokens. Check that your pipeline includes components that assign token.pos, typically 'tagger'+'attribute_ruler' or 'morphologizer'.\n",
      "  warnings.warn(Warnings.W108)\n",
      "/opt/homebrew/lib/python3.11/site-packages/spacy/pipeline/lemmatizer.py:188: UserWarning: [W108] The rule-based lemmatizer did not find POS annotation for one or more tokens. Check that your pipeline includes components that assign token.pos, typically 'tagger'+'attribute_ruler' or 'morphologizer'.\n",
      "  warnings.warn(Warnings.W108)\n",
      "/opt/homebrew/lib/python3.11/site-packages/spacy/pipeline/lemmatizer.py:188: UserWarning: [W108] The rule-based lemmatizer did not find POS annotation for one or more tokens. Check that your pipeline includes components that assign token.pos, typically 'tagger'+'attribute_ruler' or 'morphologizer'.\n",
      "  warnings.warn(Warnings.W108)\n",
      "/opt/homebrew/lib/python3.11/site-packages/spacy/pipeline/lemmatizer.py:188: UserWarning: [W108] The rule-based lemmatizer did not find POS annotation for one or more tokens. Check that your pipeline includes components that assign token.pos, typically 'tagger'+'attribute_ruler' or 'morphologizer'.\n",
      "  warnings.warn(Warnings.W108)\n"
     ]
    }
   ],
   "source": [
    "if torch.cuda.is_available():\n",
    "    device = torch.device(\"cuda\")   # NVIDIA GPU\n",
    "elif torch.backends.mps.is_available():\n",
    "    device = torch.device(\"mps\")    # Apple Silicon GPU (Metal Performance Shaders)\n",
    "else:\n",
    "    device = torch.device(\"cpu\")    # fallback\n",
    "nlp = spacy.load(\"en_core_web_sm\", disable= [\"parser\", \"tagger\"])\n",
    "embedder = SentenceTransformer(\"all-MiniLM-L6-v2\", device = device)\n",
    "\n",
    "spacy_entities = [\"ORG\", \"PRODUCT\", \"PERSON\", \"WORK_OF_ART\", \"NORP\", \"GPE\", \"LOC\", \"LAW\", \"EVENT\", \"FAC\"] # make this multiple choice for the user\n",
    "entity = []\n",
    "for doc in nlp.pipe(commentFrame[\"body\"], batch_size= 100, n_process=-1):\n",
    "    for ent in doc.ents:\n",
    "        entity.append((ent.text, ent.label_))\n",
    "        \n",
    "\n",
    "\n",
    "df_entities = pd.DataFrame(entity, columns=[\"entity\", \"label\"])\n",
    "e = df_entities[df_entities[\"label\"].isin(spacy_entities)].value_counts().head(18)\n",
    "top_ent = [idx[0] for idx in e.index]\n",
    "\n",
    "\n"
   ]
  },
  {
   "cell_type": "markdown",
   "id": "e26b37af",
   "metadata": {},
   "source": [
    "### Filtering out comments not relevant to the subreddits topics"
   ]
  },
  {
   "cell_type": "code",
   "execution_count": 91,
   "id": "11630e1f",
   "metadata": {},
   "outputs": [
    {
     "name": "stderr",
     "output_type": "stream",
     "text": [
      "Batches: 100%|██████████| 224/224 [00:15<00:00, 14.13it/s]\n"
     ]
    }
   ],
   "source": [
    "comments = commentFrame[\"body\"].tolist()\n",
    "query_emb =  embedder.encode(top_ent, normalize_embeddings= True)\n",
    "comment_emb = embedder.encode(comments, normalize_embeddings= True, show_progress_bar= True, batch_size= 64)\n",
    "\n",
    "relevance = embedder.similarity(query_emb, comment_emb)\n",
    "best_score = torch.max(relevance, dim = 0).values.tolist()\n",
    "\n",
    "relevance = embedder.similarity(query_emb, comment_emb)\n",
    "best_score = torch.max(relevance, dim = 0).values.tolist()\n",
    "commentFrame[\"relevance\"] =  best_score\n",
    "\n",
    "cutoff = np.percentile(commentFrame[\"relevance\"], 10)\n",
    "commentFrame = commentFrame[commentFrame[\"relevance\"] > cutoff]"
   ]
  },
  {
   "cell_type": "markdown",
   "id": "3cde284b",
   "metadata": {},
   "source": [
    "### Sentiment Analysis"
   ]
  },
  {
   "cell_type": "code",
   "execution_count": 92,
   "id": "ef8073a4",
   "metadata": {},
   "outputs": [
    {
     "name": "stderr",
     "output_type": "stream",
     "text": [
      "Device set to use mps\n",
      "sentiment analysis: 100%|██████████| 201/201 [02:27<00:00,  1.36it/s]\n"
     ]
    }
   ],
   "source": [
    "comments = commentFrame[\"body\"].tolist()\n",
    "if torch.cuda.is_available():\n",
    "    device = torch.device(\"cuda:0\")\n",
    "elif torch.backends.mps.is_available():\n",
    "    device = torch.device(\"mps\")\n",
    "else:\n",
    "    device = torch.device(\"cpu\")  \n",
    "classifier = pipeline(\"sentiment-analysis\", model = \"AG6019/reddit-comment-sentiment-final\", device = device)\n",
    "\n",
    "label_map = {\"LABEL_0\": -1, \"LABEL_1\": 1}\n",
    "\n",
    "batch_size = 64 if device.type != \"cpu\" else 8\n",
    "results = []\n",
    "\n",
    "for i in tqdm(range(0, len(comments), batch_size), desc = \"sentiment analysis\"):\n",
    "    batch = comments[i:i+batch_size]\n",
    "    sentiment = classifier(batch, truncation = True, max_length = 128)\n",
    "    results.extend(sentiment)\n",
    "\n",
    "commentFrame[\"sentimentLabel\"] = [0 if r[\"score\"] < 0.85 else label_map[r[\"label\"]] for r in results]\n",
    "commentFrame[\"sentimentScore\"] = [r[\"score\"] for r in results]\n"
   ]
  },
  {
   "cell_type": "markdown",
   "id": "cc39b5d3",
   "metadata": {},
   "source": [
    "Saving Dataframe to use in other notebooks"
   ]
  },
  {
   "cell_type": "code",
   "execution_count": 93,
   "id": "b6463e04",
   "metadata": {},
   "outputs": [],
   "source": [
    "commentFrame.to_pickle(\"comments.pkl\")"
   ]
  }
 ],
 "metadata": {
  "kernelspec": {
   "display_name": "Python 3",
   "language": "python",
   "name": "python3"
  },
  "language_info": {
   "codemirror_mode": {
    "name": "ipython",
    "version": 3
   },
   "file_extension": ".py",
   "mimetype": "text/x-python",
   "name": "python",
   "nbconvert_exporter": "python",
   "pygments_lexer": "ipython3",
   "version": "3.11.13"
  }
 },
 "nbformat": 4,
 "nbformat_minor": 5
}
